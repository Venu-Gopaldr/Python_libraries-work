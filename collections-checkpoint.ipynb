{
 "cells": [
  {
   "cell_type": "code",
   "execution_count": 1,
   "id": "572e6dc1",
   "metadata": {},
   "outputs": [],
   "source": [
    "import collections"
   ]
  },
  {
   "cell_type": "code",
   "execution_count": 2,
   "id": "9d735914",
   "metadata": {},
   "outputs": [
    {
     "name": "stdout",
     "output_type": "stream",
     "text": [
      "appended at right deque(['mon', 'tue', 'wed', 'thur'])\n",
      "append at right at left is  deque(['sun', 'mon', 'tue', 'wed', 'thur'])\n",
      "deque(['sun', 'mon', 'tue', 'wed'])\n"
     ]
    },
    {
     "data": {
      "text/plain": [
       "'sun'"
      ]
     },
     "execution_count": 2,
     "metadata": {},
     "output_type": "execute_result"
    }
   ],
   "source": [
    "import collections\n",
    "\n",
    "DE = collections.deque (['mon','tue','wed'])   #first in last out or last in first out\n",
    "DE.append('thur')\n",
    "print(\"appended at right\",DE)\n",
    "DE.appendleft(\"sun\")\n",
    "print(\"append at right at left is \", DE)\n",
    "DE.pop()\n",
    "print(DE)\n",
    "DE.popleft()"
   ]
  }
 ],
 "metadata": {
  "kernelspec": {
   "display_name": "Python 3 (ipykernel)",
   "language": "python",
   "name": "python3"
  },
  "language_info": {
   "codemirror_mode": {
    "name": "ipython",
    "version": 3
   },
   "file_extension": ".py",
   "mimetype": "text/x-python",
   "name": "python",
   "nbconvert_exporter": "python",
   "pygments_lexer": "ipython3",
   "version": "3.9.13"
  }
 },
 "nbformat": 4,
 "nbformat_minor": 5
}
