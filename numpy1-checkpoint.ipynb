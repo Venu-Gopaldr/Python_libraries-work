{
 "cells": [
  {
   "cell_type": "markdown",
   "id": "5fc85a6c",
   "metadata": {},
   "source": [
    "# basics of numpy"
   ]
  },
  {
   "cell_type": "markdown",
   "id": "2e0a9d48",
   "metadata": {},
   "source": [
    "numpy is the fundamental package for scientific computing with python.it contains among other things:\n",
    "    \n",
    "    -A powerful N-dimensional array object\n",
    "    -Sophisticated (broadcasting) functions\n",
    "    -tools for integrating C/C++ and Fortran code\n",
    "    -Useful linear algebra ,Fourier transform, and random number capabilities\n",
    "    "
   ]
  },
  {
   "cell_type": "code",
   "execution_count": 3,
   "id": "e641b51a",
   "metadata": {},
   "outputs": [
    {
     "data": {
      "text/plain": [
       "'1.21.5'"
      ]
     },
     "execution_count": 3,
     "metadata": {},
     "output_type": "execute_result"
    }
   ],
   "source": [
    "#importing numpy library if error use command pip3 install numpy\n",
    "import numpy as np\n",
    "np.__version__"
   ]
  },
  {
   "cell_type": "code",
   "execution_count": 5,
   "id": "41d4a153",
   "metadata": {},
   "outputs": [
    {
     "name": "stdout",
     "output_type": "stream",
     "text": [
      "int32\n"
     ]
    },
    {
     "data": {
      "text/plain": [
       "array([1, 2, 3, 4])"
      ]
     },
     "execution_count": 5,
     "metadata": {},
     "output_type": "execute_result"
    }
   ],
   "source": [
    "#create a numpy array\n",
    "a=np.array([1,2,3,4])\n",
    "print(a.dtype)\n",
    "a"
   ]
  },
  {
   "cell_type": "code",
   "execution_count": 6,
   "id": "9d17b7be",
   "metadata": {},
   "outputs": [
    {
     "data": {
      "text/plain": [
       "[1, '2', 3, 4, False]"
      ]
     },
     "execution_count": 6,
     "metadata": {},
     "output_type": "execute_result"
    }
   ],
   "source": [
    "#differentiate between numpy array and list\n",
    "\n",
    "[1,'2',3,4,False]"
   ]
  },
  {
   "cell_type": "markdown",
   "id": "c6fa66db",
   "metadata": {},
   "source": [
    "differentiate between numpy array and list---\n",
    "\n",
    "Datatype should be same of all the elements in a numpy array whereas it can be different in case of lists.\n",
    "\n",
    "if we add an element of string datatype in a numpy array\n",
    "\n",
    "then it will upcast the datatype to string of all the elements."
   ]
  },
  {
   "cell_type": "code",
   "execution_count": 2,
   "id": "171f04f6",
   "metadata": {},
   "outputs": [
    {
     "data": {
      "text/plain": [
       "array(['1', '2', '3', '4', 'False'], dtype='<U11')"
      ]
     },
     "execution_count": 2,
     "metadata": {},
     "output_type": "execute_result"
    }
   ],
   "source": [
    "import numpy as np\n",
    "np.array([1,'2',3,4,False])"
   ]
  },
  {
   "cell_type": "markdown",
   "id": "30879b35",
   "metadata": {},
   "source": [
    "now , we will create one sample list and numpy array and apply a very basic function of multiplication by 2.\n",
    "we will see that in case of list the elements are duplicated and appended to the list whereas in case of numpy we got an array\n",
    "where all elements are multiplied by 2."
   ]
  },
  {
   "cell_type": "code",
   "execution_count": 3,
   "id": "153ec9ca",
   "metadata": {},
   "outputs": [],
   "source": [
    "#create a sample list\n",
    "smaple_list=([1,2,3,4])"
   ]
  },
  {
   "cell_type": "code",
   "execution_count": 4,
   "id": "45a21eef",
   "metadata": {},
   "outputs": [
    {
     "data": {
      "text/plain": [
       "[1, 2, 3, 4, 1, 2, 3, 4]"
      ]
     },
     "execution_count": 4,
     "metadata": {},
     "output_type": "execute_result"
    }
   ],
   "source": [
    "smaple_list*2"
   ]
  },
  {
   "cell_type": "code",
   "execution_count": 5,
   "id": "0219c0d5",
   "metadata": {},
   "outputs": [],
   "source": [
    "#create a sample numpy array\n",
    "sample_numpy_array = np.array([1,2,3,4,5])"
   ]
  },
  {
   "cell_type": "code",
   "execution_count": 6,
   "id": "6b208180",
   "metadata": {},
   "outputs": [
    {
     "data": {
      "text/plain": [
       "array([ 2,  4,  6,  8, 10])"
      ]
     },
     "execution_count": 6,
     "metadata": {},
     "output_type": "execute_result"
    }
   ],
   "source": [
    "sample_numpy_array*2"
   ]
  },
  {
   "cell_type": "code",
   "execution_count": 7,
   "id": "a3007b2a",
   "metadata": {},
   "outputs": [
    {
     "data": {
      "text/plain": [
       "[[1, 2, 3], [4, 5, 6], [7, 8, 9]]"
      ]
     },
     "execution_count": 7,
     "metadata": {},
     "output_type": "execute_result"
    }
   ],
   "source": [
    "#create matrix using numpy\n",
    "a = [[1,2,3],\n",
    "    [4,5,6],\n",
    "    [7,8,9]]\n",
    "a"
   ]
  },
  {
   "cell_type": "code",
   "execution_count": 8,
   "id": "9e2b9024",
   "metadata": {
    "scrolled": true
   },
   "outputs": [
    {
     "data": {
      "text/plain": [
       "array([[1, 2, 3],\n",
       "       [4, 5, 6],\n",
       "       [7, 8, 9]])"
      ]
     },
     "execution_count": 8,
     "metadata": {},
     "output_type": "execute_result"
    }
   ],
   "source": [
    "a1 = np.array(a)\n",
    "a1"
   ]
  },
  {
   "cell_type": "code",
   "execution_count": 9,
   "id": "5fa748c6",
   "metadata": {},
   "outputs": [
    {
     "name": "stdout",
     "output_type": "stream",
     "text": [
      "[1, 2, 3]\n",
      "2\n",
      "9\n"
     ]
    }
   ],
   "source": [
    "print(a[0])\n",
    "print(a[0][1])\n",
    "print(a[2][2])"
   ]
  },
  {
   "cell_type": "code",
   "execution_count": 10,
   "id": "34e405dd",
   "metadata": {},
   "outputs": [
    {
     "data": {
      "text/plain": [
       "array([[1, 2, 3],\n",
       "       [4, 5, 6],\n",
       "       [7, 8, 9]])"
      ]
     },
     "execution_count": 10,
     "metadata": {},
     "output_type": "execute_result"
    }
   ],
   "source": [
    "b = np.array([[1,2,3],\n",
    "             [4,5,6],\n",
    "             [7,8,9]])\n",
    "b"
   ]
  },
  {
   "cell_type": "code",
   "execution_count": null,
   "id": "0308b265",
   "metadata": {},
   "outputs": [],
   "source": [
    "import numpy as np\n"
   ]
  },
  {
   "cell_type": "markdown",
   "id": "96799720",
   "metadata": {},
   "source": [
    "# creating random matrix"
   ]
  },
  {
   "cell_type": "code",
   "execution_count": 11,
   "id": "95efd4b3",
   "metadata": {},
   "outputs": [],
   "source": [
    "import random"
   ]
  },
  {
   "cell_type": "code",
   "execution_count": 12,
   "id": "5acddb3e",
   "metadata": {},
   "outputs": [
    {
     "data": {
      "text/plain": [
       "array([[ 6, 10,  8],\n",
       "       [16, 12,  6],\n",
       "       [16,  9,  8]])"
      ]
     },
     "execution_count": 12,
     "metadata": {},
     "output_type": "execute_result"
    }
   ],
   "source": [
    "#create a 3x3 array of random integer in the interval [1,10]\n",
    "\n",
    "np.random.randint(0,20,(3,3))"
   ]
  },
  {
   "cell_type": "code",
   "execution_count": 13,
   "id": "a155f413",
   "metadata": {},
   "outputs": [
    {
     "data": {
      "text/plain": [
       "array([[3, 8, 7],\n",
       "       [9, 4, 4],\n",
       "       [2, 4, 5],\n",
       "       [1, 9, 6]])"
      ]
     },
     "execution_count": 13,
     "metadata": {},
     "output_type": "execute_result"
    }
   ],
   "source": [
    "#create another matrix\n",
    "\n",
    "np.random.randint(0,10,(4,3))"
   ]
  },
  {
   "cell_type": "markdown",
   "id": "daa152db",
   "metadata": {},
   "source": [
    "we got a different matrix when we generated another random matrix:we can get the same matrix again by fixing the seed.\n",
    "let's see how?"
   ]
  },
  {
   "cell_type": "code",
   "execution_count": 16,
   "id": "8db41d01",
   "metadata": {},
   "outputs": [
    {
     "data": {
      "text/plain": [
       "array([[9, 4, 0],\n",
       "       [1, 9, 0],\n",
       "       [1, 8, 9]])"
      ]
     },
     "execution_count": 16,
     "metadata": {},
     "output_type": "execute_result"
    }
   ],
   "source": [
    "#fixing the random seed\n",
    "np.random.seed(10)\n",
    "\n",
    "np.random.randint(0,10,(3,3))"
   ]
  },
  {
   "cell_type": "code",
   "execution_count": 17,
   "id": "b30ad7d0",
   "metadata": {},
   "outputs": [
    {
     "data": {
      "text/plain": [
       "array([[0, 0, 0, 0],\n",
       "       [0, 0, 0, 0],\n",
       "       [0, 0, 0, 0]])"
      ]
     },
     "execution_count": 17,
     "metadata": {},
     "output_type": "execute_result"
    }
   ],
   "source": [
    "#create a matrix of Zero's of specific dimension.\n",
    "#create a 2 x 10 integer array filled with zeros\n",
    "\n",
    "np.zeros((3,4),dtype=int)"
   ]
  },
  {
   "cell_type": "code",
   "execution_count": 18,
   "id": "35f7ea4e",
   "metadata": {},
   "outputs": [
    {
     "data": {
      "text/plain": [
       "array([[0, 0, 0, 0, 0],\n",
       "       [0, 0, 0, 0, 0],\n",
       "       [0, 0, 0, 0, 0],\n",
       "       [0, 0, 0, 0, 0]])"
      ]
     },
     "execution_count": 18,
     "metadata": {},
     "output_type": "execute_result"
    }
   ],
   "source": [
    "#create a 4 x 5 integer array filled with zeros\n",
    "\n",
    "np.zeros((4,5),dtype=int)\n"
   ]
  },
  {
   "cell_type": "code",
   "execution_count": 19,
   "id": "bbdb34a4",
   "metadata": {},
   "outputs": [
    {
     "data": {
      "text/plain": [
       "array([[1, 1, 1, 1, 1],\n",
       "       [1, 1, 1, 1, 1],\n",
       "       [1, 1, 1, 1, 1],\n",
       "       [1, 1, 1, 1, 1]])"
      ]
     },
     "execution_count": 19,
     "metadata": {},
     "output_type": "execute_result"
    }
   ],
   "source": [
    "#creating matrix of ones of specific dimension.\n",
    "\n",
    "#create a 4 x 5 integer array filled with zeros\n",
    "\n",
    "np.ones((4,5),dtype=int)"
   ]
  },
  {
   "cell_type": "code",
   "execution_count": 20,
   "id": "b966568f",
   "metadata": {},
   "outputs": [
    {
     "data": {
      "text/plain": [
       "array([[1, 0, 0, 0, 0],\n",
       "       [0, 1, 0, 0, 0],\n",
       "       [0, 0, 1, 0, 0],\n",
       "       [0, 0, 0, 1, 0],\n",
       "       [0, 0, 0, 0, 1]])"
      ]
     },
     "execution_count": 20,
     "metadata": {},
     "output_type": "execute_result"
    }
   ],
   "source": [
    "np.identity(5,dtype=int)"
   ]
  },
  {
   "cell_type": "code",
   "execution_count": 21,
   "id": "1ebc7ad4",
   "metadata": {},
   "outputs": [
    {
     "data": {
      "text/plain": [
       "array([[3.14, 3.14, 3.14, 3.14, 3.14],\n",
       "       [3.14, 3.14, 3.14, 3.14, 3.14],\n",
       "       [3.14, 3.14, 3.14, 3.14, 3.14]])"
      ]
     },
     "execution_count": 21,
     "metadata": {},
     "output_type": "execute_result"
    }
   ],
   "source": [
    "#creating matrix of filled with any specific number  of specific dimension.\n",
    "\n",
    "#create a 3 x 5 array filled with 3.14\n",
    "\n",
    "np.full((3,5),3.14)"
   ]
  },
  {
   "cell_type": "code",
   "execution_count": 23,
   "id": "a1793b3c",
   "metadata": {},
   "outputs": [
    {
     "data": {
      "text/plain": [
       "array([[7, 7, 7, 7],\n",
       "       [7, 7, 7, 7]])"
      ]
     },
     "execution_count": 23,
     "metadata": {},
     "output_type": "execute_result"
    }
   ],
   "source": [
    "#create a 2 x 4 array filled with 7\n",
    "\n",
    "np.full((2,4),7)"
   ]
  },
  {
   "cell_type": "markdown",
   "id": "b191ebf0",
   "metadata": {},
   "source": [
    "# array concatenation"
   ]
  },
  {
   "cell_type": "code",
   "execution_count": 26,
   "id": "9a80a8d6",
   "metadata": {},
   "outputs": [
    {
     "name": "stdout",
     "output_type": "stream",
     "text": [
      "matrix1\n"
     ]
    },
    {
     "data": {
      "text/plain": [
       "array([[1, 2, 3],\n",
       "       [4, 5, 6]])"
      ]
     },
     "execution_count": 26,
     "metadata": {},
     "output_type": "execute_result"
    }
   ],
   "source": [
    "#concatenation 2-D arrays\n",
    "\n",
    "matrix1 = np.array([[1,2,3],[4,5,6]])\n",
    "\n",
    "print(\"matrix1\")\n",
    "matrix1"
   ]
  },
  {
   "cell_type": "code",
   "execution_count": 27,
   "id": "e2a68ab2",
   "metadata": {},
   "outputs": [
    {
     "name": "stdout",
     "output_type": "stream",
     "text": [
      "matrix2\n"
     ]
    },
    {
     "data": {
      "text/plain": [
       "array([[ 7,  8,  9],\n",
       "       [10, 11, 12]])"
      ]
     },
     "execution_count": 27,
     "metadata": {},
     "output_type": "execute_result"
    }
   ],
   "source": [
    "matrix2 = np.array([[7,8,9],[10,11,12]])\n",
    "print(\"matrix2\")\n",
    "matrix2"
   ]
  },
  {
   "cell_type": "markdown",
   "id": "0fcb7de5",
   "metadata": {},
   "source": [
    "# concatenate row wise"
   ]
  },
  {
   "cell_type": "code",
   "execution_count": null,
   "id": "6cb30362",
   "metadata": {},
   "outputs": [],
   "source": [
    "#concatenate along the first axis\n",
    "\n",
    "matrix_1_2_"
   ]
  }
 ],
 "metadata": {
  "kernelspec": {
   "display_name": "Python 3 (ipykernel)",
   "language": "python",
   "name": "python3"
  },
  "language_info": {
   "codemirror_mode": {
    "name": "ipython",
    "version": 3
   },
   "file_extension": ".py",
   "mimetype": "text/x-python",
   "name": "python",
   "nbconvert_exporter": "python",
   "pygments_lexer": "ipython3",
   "version": "3.9.13"
  }
 },
 "nbformat": 4,
 "nbformat_minor": 5
}
